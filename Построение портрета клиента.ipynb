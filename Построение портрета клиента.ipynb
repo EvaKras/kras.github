{
 "cells": [
  {
   "cell_type": "markdown",
   "metadata": {
    "id": "cAU_0d4NLjTU"
   },
   "source": [
    "**Аналитическая задача** -- по признаковому описанию построить портрет клиента, склонного к положительному отклику на рекламное предложение.\n",
    "\n",
    "Предполагается, что получив такую оценку для некоторого множества клиентов, компания будет обращаться только к тем из них, которые склонны к отклику.\n",
    "\n",
    "**Описание полей**\n",
    "\n",
    "|Признак|Расшифровка|\n",
    "|--:|:--|\n",
    "| AGREEMENT_RK | уникальный идентификатор объекта в выборке |\n",
    "| TARGET | целевая переменная:отклик на маркетинговую кампанию (1 - отклик был зарегистрирован, 0 - отклика не было) |\n",
    "| AGE |\tвозраст клиента |\n",
    "| SOCSTATUS_WORK_FL | социальный статус клиента относительно работы (1 - работает, 0 - не работает)|\n",
    "| SOCSTATUS_PENS_FL | социальный статус клиента относительно пенсии (1 - пенсионер, 0 - не пенсионер)|\n",
    "| GENDER | пол клиента |\n",
    "| CHILD_TOTAL | количество детей клиента |\n",
    "| DEPENDANTS | количество иждивенцев клиента\n",
    "| EDUCATION | образование |\n",
    "| MARITAL_STATUS | семейное положение |\n",
    "| GEN_INDUSTRY | отрасль работы клиента |\n",
    "| GEN_TITLE |\tдолжность |\n",
    "| ORG_TP_STATE |\tформа собственности компании|\n",
    "| ORG_TP_FCAPITAL |\tотношение к иностранному капиталу|\n",
    "| JOB_DIR |\tнаправление деятельности внутри компании|\n",
    "| FAMILY_INCOME |\tсемейный доход (несколько категорий)|\n",
    "| PERSONAL_INCOME |\tличный доход клиента (в рублях)|\n",
    "| REG_ADDRESS_PROVINCE | область регистрации клиента|\n",
    "| FACT_ADDRESS_PROVINCE | область фактического пребывания клиента |\n",
    "| POSTAL_ADDRESS_PROVINCE |\tпочтовый адрес область|\n",
    "| TP_PROVINCE |\tобласть торговой точки, где клиент брал последний кредит|\n",
    "| REGION_NM\t| регион РФ |\n",
    "| FL_PRESENCE_FL | наличие в собственности квартиры (1 - есть, 0 - нет)|\n",
    "| OWN_AUTO | кол-во автомобилей в собственности| \n",
    "| AUTO_RUS_FL | наличие в собственности автомобиля российского производства ( 1 - есть, 0 - нет)|\n",
    "| HS_PRESENCE_FL |\tналичие в собственности загородного дома (1 - есть, 0 - нет)|\n",
    "| COT_PRESENCE_FL |\tналичие в собственности котеджа (1 - есть, 0 - нет) |\n",
    "| GAR_PRESENCE_FL |\tналичие в собственности гаража (1 - есть, 0 - нет)|\n",
    "| LAND_PRESENCE_FL | наличие в собственности земельного участка (1 - есть, 0 - нет)|\n",
    "| FACT_LIVING_TERM | количество месяцев проживания по месту фактического пребывания |\n",
    "| WORK_TIME | время работы на текущем месте (в месяцах) |\n",
    "| CREDIT | сумма последнего кредита клиента (в рублях) |\n",
    "| TERM | срок кредита, мес.|\n",
    "| LOAN_NUM_PAYM | количество платежей, которые сделал клиент | \n",
    "| LOAN_DLQ_NUM | количество просрочек, допущенных клиентом |\n",
    "| LOAN_MAX_DLQ_AMT | максимальная сумма просрочки (в рублях) |\n",
    "| DATE_CREDIT | дата взятия кредита |\n",
    "\n",
    "**Примерный план по выполнению проекта**\n",
    "\n",
    "Шаг 1. Загрузка данных;\n",
    "\n",
    "Шаг 2. Первичная обработка данных (при необходимости):\n",
    "- скорректировать заголовки;\n",
    "- скорректировать типы признаков;\n",
    "- проверить наличие дублирующихся записей;\n",
    "- проверить наличие аномальных значений;\n",
    "- восстановить пропущенные значения.\n",
    "\n",
    "Шаг 3. Добавьте в таблицу следующие признаки:\n",
    "- день недели, месяц и год взятия кредита;\n",
    "- адрес регистрации и адрес фактического пребывания клиента совпадают (1 -- совпадает, 0 -- не совпадает);\n",
    "- адрес фактического пребывания клиента и его почтовый адрес совпадают(1 -- совпадает, 0 -- не совпадает);\n",
    "- адрес регистрации клиента и его почтовый адрес совпадают(1 -- совпадает, 0 -- не совпадает);\n",
    "- почтовый, фактический и адрес регистрации совпадают (1 -- совпадают, 0 -- не совпадают);\n",
    "- область регистрации, фактического пребывания, почтового адреса и область расположения торговой точки, где клиент брал кредит совпадают (1 -- совпадают, 0 -- не совпадают);\n",
    "\n",
    "Шаг 4. Провести исследовательский анализ данных:\n",
    "- исследовать динамику количества кредитов по годам, месяцам;\n",
    "- исследовать числовые и категориальные признаки в разрезе целевого признака;\n",
    "- сделать выводы о влиянии признаков на целевой признак. "
   ]
  },
  {
   "cell_type": "code",
   "execution_count": 2,
   "metadata": {
    "id": "3T_Xo-EPfKwT"
   },
   "outputs": [],
   "source": [
    "import pandas as pd\n",
    "\n",
    "import numpy as np\n",
    "import seaborn as sns\n",
    "import matplotlib.pyplot as plt\n",
    "\n",
    "\n",
    "pd.set_option('display.max_columns', None)"
   ]
  },
  {
   "cell_type": "code",
   "execution_count": 3,
   "metadata": {},
   "outputs": [
    {
     "ename": "FileNotFoundError",
     "evalue": "[Errno 2] No such file or directory: 'dataset_target_company.csv'",
     "output_type": "error",
     "traceback": [
      "\u001b[1;31m---------------------------------------------------------------------------\u001b[0m",
      "\u001b[1;31mFileNotFoundError\u001b[0m                         Traceback (most recent call last)",
      "Cell \u001b[1;32mIn[3], line 1\u001b[0m\n\u001b[1;32m----> 1\u001b[0m df \u001b[38;5;241m=\u001b[39m pd\u001b[38;5;241m.\u001b[39mread_csv(\u001b[38;5;124m'\u001b[39m\u001b[38;5;124mdataset_target_company.csv\u001b[39m\u001b[38;5;124m'\u001b[39m)\n\u001b[0;32m      2\u001b[0m df\n",
      "File \u001b[1;32m~\\AppData\\Roaming\\Python\\Python311\\site-packages\\pandas\\io\\parsers\\readers.py:1026\u001b[0m, in \u001b[0;36mread_csv\u001b[1;34m(filepath_or_buffer, sep, delimiter, header, names, index_col, usecols, dtype, engine, converters, true_values, false_values, skipinitialspace, skiprows, skipfooter, nrows, na_values, keep_default_na, na_filter, verbose, skip_blank_lines, parse_dates, infer_datetime_format, keep_date_col, date_parser, date_format, dayfirst, cache_dates, iterator, chunksize, compression, thousands, decimal, lineterminator, quotechar, quoting, doublequote, escapechar, comment, encoding, encoding_errors, dialect, on_bad_lines, delim_whitespace, low_memory, memory_map, float_precision, storage_options, dtype_backend)\u001b[0m\n\u001b[0;32m   1013\u001b[0m kwds_defaults \u001b[38;5;241m=\u001b[39m _refine_defaults_read(\n\u001b[0;32m   1014\u001b[0m     dialect,\n\u001b[0;32m   1015\u001b[0m     delimiter,\n\u001b[1;32m   (...)\u001b[0m\n\u001b[0;32m   1022\u001b[0m     dtype_backend\u001b[38;5;241m=\u001b[39mdtype_backend,\n\u001b[0;32m   1023\u001b[0m )\n\u001b[0;32m   1024\u001b[0m kwds\u001b[38;5;241m.\u001b[39mupdate(kwds_defaults)\n\u001b[1;32m-> 1026\u001b[0m \u001b[38;5;28;01mreturn\u001b[39;00m _read(filepath_or_buffer, kwds)\n",
      "File \u001b[1;32m~\\AppData\\Roaming\\Python\\Python311\\site-packages\\pandas\\io\\parsers\\readers.py:620\u001b[0m, in \u001b[0;36m_read\u001b[1;34m(filepath_or_buffer, kwds)\u001b[0m\n\u001b[0;32m    617\u001b[0m _validate_names(kwds\u001b[38;5;241m.\u001b[39mget(\u001b[38;5;124m\"\u001b[39m\u001b[38;5;124mnames\u001b[39m\u001b[38;5;124m\"\u001b[39m, \u001b[38;5;28;01mNone\u001b[39;00m))\n\u001b[0;32m    619\u001b[0m \u001b[38;5;66;03m# Create the parser.\u001b[39;00m\n\u001b[1;32m--> 620\u001b[0m parser \u001b[38;5;241m=\u001b[39m TextFileReader(filepath_or_buffer, \u001b[38;5;241m*\u001b[39m\u001b[38;5;241m*\u001b[39mkwds)\n\u001b[0;32m    622\u001b[0m \u001b[38;5;28;01mif\u001b[39;00m chunksize \u001b[38;5;129;01mor\u001b[39;00m iterator:\n\u001b[0;32m    623\u001b[0m     \u001b[38;5;28;01mreturn\u001b[39;00m parser\n",
      "File \u001b[1;32m~\\AppData\\Roaming\\Python\\Python311\\site-packages\\pandas\\io\\parsers\\readers.py:1620\u001b[0m, in \u001b[0;36mTextFileReader.__init__\u001b[1;34m(self, f, engine, **kwds)\u001b[0m\n\u001b[0;32m   1617\u001b[0m     \u001b[38;5;28mself\u001b[39m\u001b[38;5;241m.\u001b[39moptions[\u001b[38;5;124m\"\u001b[39m\u001b[38;5;124mhas_index_names\u001b[39m\u001b[38;5;124m\"\u001b[39m] \u001b[38;5;241m=\u001b[39m kwds[\u001b[38;5;124m\"\u001b[39m\u001b[38;5;124mhas_index_names\u001b[39m\u001b[38;5;124m\"\u001b[39m]\n\u001b[0;32m   1619\u001b[0m \u001b[38;5;28mself\u001b[39m\u001b[38;5;241m.\u001b[39mhandles: IOHandles \u001b[38;5;241m|\u001b[39m \u001b[38;5;28;01mNone\u001b[39;00m \u001b[38;5;241m=\u001b[39m \u001b[38;5;28;01mNone\u001b[39;00m\n\u001b[1;32m-> 1620\u001b[0m \u001b[38;5;28mself\u001b[39m\u001b[38;5;241m.\u001b[39m_engine \u001b[38;5;241m=\u001b[39m \u001b[38;5;28mself\u001b[39m\u001b[38;5;241m.\u001b[39m_make_engine(f, \u001b[38;5;28mself\u001b[39m\u001b[38;5;241m.\u001b[39mengine)\n",
      "File \u001b[1;32m~\\AppData\\Roaming\\Python\\Python311\\site-packages\\pandas\\io\\parsers\\readers.py:1880\u001b[0m, in \u001b[0;36mTextFileReader._make_engine\u001b[1;34m(self, f, engine)\u001b[0m\n\u001b[0;32m   1878\u001b[0m     \u001b[38;5;28;01mif\u001b[39;00m \u001b[38;5;124m\"\u001b[39m\u001b[38;5;124mb\u001b[39m\u001b[38;5;124m\"\u001b[39m \u001b[38;5;129;01mnot\u001b[39;00m \u001b[38;5;129;01min\u001b[39;00m mode:\n\u001b[0;32m   1879\u001b[0m         mode \u001b[38;5;241m+\u001b[39m\u001b[38;5;241m=\u001b[39m \u001b[38;5;124m\"\u001b[39m\u001b[38;5;124mb\u001b[39m\u001b[38;5;124m\"\u001b[39m\n\u001b[1;32m-> 1880\u001b[0m \u001b[38;5;28mself\u001b[39m\u001b[38;5;241m.\u001b[39mhandles \u001b[38;5;241m=\u001b[39m get_handle(\n\u001b[0;32m   1881\u001b[0m     f,\n\u001b[0;32m   1882\u001b[0m     mode,\n\u001b[0;32m   1883\u001b[0m     encoding\u001b[38;5;241m=\u001b[39m\u001b[38;5;28mself\u001b[39m\u001b[38;5;241m.\u001b[39moptions\u001b[38;5;241m.\u001b[39mget(\u001b[38;5;124m\"\u001b[39m\u001b[38;5;124mencoding\u001b[39m\u001b[38;5;124m\"\u001b[39m, \u001b[38;5;28;01mNone\u001b[39;00m),\n\u001b[0;32m   1884\u001b[0m     compression\u001b[38;5;241m=\u001b[39m\u001b[38;5;28mself\u001b[39m\u001b[38;5;241m.\u001b[39moptions\u001b[38;5;241m.\u001b[39mget(\u001b[38;5;124m\"\u001b[39m\u001b[38;5;124mcompression\u001b[39m\u001b[38;5;124m\"\u001b[39m, \u001b[38;5;28;01mNone\u001b[39;00m),\n\u001b[0;32m   1885\u001b[0m     memory_map\u001b[38;5;241m=\u001b[39m\u001b[38;5;28mself\u001b[39m\u001b[38;5;241m.\u001b[39moptions\u001b[38;5;241m.\u001b[39mget(\u001b[38;5;124m\"\u001b[39m\u001b[38;5;124mmemory_map\u001b[39m\u001b[38;5;124m\"\u001b[39m, \u001b[38;5;28;01mFalse\u001b[39;00m),\n\u001b[0;32m   1886\u001b[0m     is_text\u001b[38;5;241m=\u001b[39mis_text,\n\u001b[0;32m   1887\u001b[0m     errors\u001b[38;5;241m=\u001b[39m\u001b[38;5;28mself\u001b[39m\u001b[38;5;241m.\u001b[39moptions\u001b[38;5;241m.\u001b[39mget(\u001b[38;5;124m\"\u001b[39m\u001b[38;5;124mencoding_errors\u001b[39m\u001b[38;5;124m\"\u001b[39m, \u001b[38;5;124m\"\u001b[39m\u001b[38;5;124mstrict\u001b[39m\u001b[38;5;124m\"\u001b[39m),\n\u001b[0;32m   1888\u001b[0m     storage_options\u001b[38;5;241m=\u001b[39m\u001b[38;5;28mself\u001b[39m\u001b[38;5;241m.\u001b[39moptions\u001b[38;5;241m.\u001b[39mget(\u001b[38;5;124m\"\u001b[39m\u001b[38;5;124mstorage_options\u001b[39m\u001b[38;5;124m\"\u001b[39m, \u001b[38;5;28;01mNone\u001b[39;00m),\n\u001b[0;32m   1889\u001b[0m )\n\u001b[0;32m   1890\u001b[0m \u001b[38;5;28;01massert\u001b[39;00m \u001b[38;5;28mself\u001b[39m\u001b[38;5;241m.\u001b[39mhandles \u001b[38;5;129;01mis\u001b[39;00m \u001b[38;5;129;01mnot\u001b[39;00m \u001b[38;5;28;01mNone\u001b[39;00m\n\u001b[0;32m   1891\u001b[0m f \u001b[38;5;241m=\u001b[39m \u001b[38;5;28mself\u001b[39m\u001b[38;5;241m.\u001b[39mhandles\u001b[38;5;241m.\u001b[39mhandle\n",
      "File \u001b[1;32m~\\AppData\\Roaming\\Python\\Python311\\site-packages\\pandas\\io\\common.py:873\u001b[0m, in \u001b[0;36mget_handle\u001b[1;34m(path_or_buf, mode, encoding, compression, memory_map, is_text, errors, storage_options)\u001b[0m\n\u001b[0;32m    868\u001b[0m \u001b[38;5;28;01melif\u001b[39;00m \u001b[38;5;28misinstance\u001b[39m(handle, \u001b[38;5;28mstr\u001b[39m):\n\u001b[0;32m    869\u001b[0m     \u001b[38;5;66;03m# Check whether the filename is to be opened in binary mode.\u001b[39;00m\n\u001b[0;32m    870\u001b[0m     \u001b[38;5;66;03m# Binary mode does not support 'encoding' and 'newline'.\u001b[39;00m\n\u001b[0;32m    871\u001b[0m     \u001b[38;5;28;01mif\u001b[39;00m ioargs\u001b[38;5;241m.\u001b[39mencoding \u001b[38;5;129;01mand\u001b[39;00m \u001b[38;5;124m\"\u001b[39m\u001b[38;5;124mb\u001b[39m\u001b[38;5;124m\"\u001b[39m \u001b[38;5;129;01mnot\u001b[39;00m \u001b[38;5;129;01min\u001b[39;00m ioargs\u001b[38;5;241m.\u001b[39mmode:\n\u001b[0;32m    872\u001b[0m         \u001b[38;5;66;03m# Encoding\u001b[39;00m\n\u001b[1;32m--> 873\u001b[0m         handle \u001b[38;5;241m=\u001b[39m \u001b[38;5;28mopen\u001b[39m(\n\u001b[0;32m    874\u001b[0m             handle,\n\u001b[0;32m    875\u001b[0m             ioargs\u001b[38;5;241m.\u001b[39mmode,\n\u001b[0;32m    876\u001b[0m             encoding\u001b[38;5;241m=\u001b[39mioargs\u001b[38;5;241m.\u001b[39mencoding,\n\u001b[0;32m    877\u001b[0m             errors\u001b[38;5;241m=\u001b[39merrors,\n\u001b[0;32m    878\u001b[0m             newline\u001b[38;5;241m=\u001b[39m\u001b[38;5;124m\"\u001b[39m\u001b[38;5;124m\"\u001b[39m,\n\u001b[0;32m    879\u001b[0m         )\n\u001b[0;32m    880\u001b[0m     \u001b[38;5;28;01melse\u001b[39;00m:\n\u001b[0;32m    881\u001b[0m         \u001b[38;5;66;03m# Binary mode\u001b[39;00m\n\u001b[0;32m    882\u001b[0m         handle \u001b[38;5;241m=\u001b[39m \u001b[38;5;28mopen\u001b[39m(handle, ioargs\u001b[38;5;241m.\u001b[39mmode)\n",
      "\u001b[1;31mFileNotFoundError\u001b[0m: [Errno 2] No such file or directory: 'dataset_target_company.csv'"
     ]
    }
   ]
  },
  {
   "cell_type": "markdown",
   "metadata": {},
   "source": [
    "#### <center>Первичная обработка данных."
   ]
  },
  {
   "cell_type": "markdown",
   "metadata": {},
   "source": [
    "Для начала переимеименуем название столбцов."
   ]
  },
  {
   "cell_type": "code",
   "execution_count": null,
   "metadata": {},
   "outputs": [],
   "source": [
    "data = df.copy()\n",
    "data = data.rename(columns = {'AGREEMENT_RK': 'id', \n",
    "                       'TARGET': 'reaction', \n",
    "                       'AGE': 'age', \n",
    "                       'SOCSTATUS_WORK_FL': 'work_status', \n",
    "                       'SOCSTATUS_PENS_FL': 'status_pens',\n",
    "                      'GENDER': 'gender', \n",
    "                       'CHILD_TOTAL': 'children', \n",
    "                       'DEPENDANTS': 'izh', \n",
    "                       'EDUCATION': 'education', \n",
    "                       'MARITAL_STATUS': 'marriage', \n",
    "                      'GEN_INDUSTRY': 'where_work', \n",
    "                       'GEN_TITLE': 'work_tittle', \n",
    "                       'ORG_TP_STATE': 'org', \n",
    "                       'ORG_TP_FCAPITAL': 'capital_abroad', \n",
    "                       'JOB_DIR': 'work_departament', \n",
    "                       'FAMILY_INCOME': 'family_income', \n",
    "                       'PERSONAL_INCOME': 'pers_income', \n",
    "                       'REG_ADDRESS_PROVINCE': 'reg_address', \n",
    "                       'FACT_ADDRESS_PROVINCE': 'fact_address', 'POSTAL_ADDRESS_PROVINCE': 'post_address', \n",
    "                      'TP_PROVINCE': 'region_tt_credit', \n",
    "                       'REGION_NM': 'region', \n",
    "                       'FL_PRESENCE_FL': 'home', \n",
    "                       'OWN_AUTO': 'auto', 'AUTO_RUS_FL':'rus_auto',\n",
    "                       'HS_PRESENCE_FL': 'house_out_city', 'COT_PRESENCE_FL': 'big_house', 'GAR_PRESENCE_FL': 'garage', 'LAND_PRESENCE_FL': 'own_land',\n",
    "                       'FACT_LIVING_TERM': 'how_living_in_fact', \n",
    "                       'WORK_TIME': 'time_month_work', \n",
    "                       'CREDIT': 'summa_credit', 'TERM': 'time_credit',\n",
    "                       'LOAN_NUM_PAYM': 'payment', 'LOAN_DLQ_NUM': 'time_not_pay', 'LOAN_MAX_DLQ_AMT': 'max_sum_not_pay', \n",
    "                       'DATE_CREDIT':'date_credit'})"
   ]
  },
  {
   "cell_type": "code",
   "execution_count": null,
   "metadata": {
    "scrolled": true
   },
   "outputs": [],
   "source": [
    "data.info()"
   ]
  },
  {
   "cell_type": "markdown",
   "metadata": {},
   "source": [
    "Рассмотрим, что содержится в каждом признаке"
   ]
  },
  {
   "cell_type": "code",
   "execution_count": null,
   "metadata": {
    "scrolled": true
   },
   "outputs": [],
   "source": [
    "for col in data: \n",
    "    print(f'----- признак {col} -----')\n",
    "    print(data[col].unique())\n",
    "    print('--'*5)"
   ]
  },
  {
   "cell_type": "markdown",
   "metadata": {},
   "source": [
    "Изучив типы столбиков и их содержание, было решено только перевести 36 столбик \"date_credit\" в формат дата."
   ]
  },
  {
   "cell_type": "code",
   "execution_count": null,
   "metadata": {},
   "outputs": [],
   "source": [
    "data = data.astype({'date_credit': 'datetime64[ns]'},\n",
    "               errors='ignore')\n",
    "# data.dtypes"
   ]
  },
  {
   "cell_type": "code",
   "execution_count": null,
   "metadata": {},
   "outputs": [],
   "source": [
    "print(f'Количество дублирующихся записей - {data.duplicated().sum()}.')"
   ]
  },
  {
   "cell_type": "markdown",
   "metadata": {},
   "source": [
    "Изучим количество пропущенных значений в каждом столбике."
   ]
  },
  {
   "cell_type": "code",
   "execution_count": null,
   "metadata": {
    "scrolled": true
   },
   "outputs": [],
   "source": [
    "data.isnull().sum()"
   ]
  },
  {
   "cell_type": "markdown",
   "metadata": {},
   "source": [
    "Большинство пропусков в стобцах с местом, департаментом и временем работы. Возможно данные пропуски связаны с рабочим статусом человека - 0 (безработный)"
   ]
  },
  {
   "cell_type": "code",
   "execution_count": null,
   "metadata": {
    "scrolled": true
   },
   "outputs": [],
   "source": [
    "data[['id', 'work_status', 'work_tittle', 'where_work', 'work_departament', 'time_month_work']].loc[data['work_status'] == 0]"
   ]
  },
  {
   "cell_type": "markdown",
   "metadata": {},
   "source": [
    "Действительно, большинство пропусков в стобцах с местом, департаментом и временем работы находится в строках с рабочим статусом - 0, т.е у безроботных. Заменим данные пропуски на \"Не работает\".     \n",
    "Также существует ошибка со статусом \"0\", у клиента, у которого указано место, департамент и время работы. Здесь возможны два варианта, либо это ошибка данных в столбце статус, либо статус поменялся, а данные о работе, остались с предыдущего места."
   ]
  },
  {
   "cell_type": "code",
   "execution_count": null,
   "metadata": {},
   "outputs": [],
   "source": [
    "data['work_tittle'] = np.where((data['work_status']==0), np.where(data['work_tittle'].isna(),'Не работает', data['work_tittle']), data['work_tittle'])\n",
    "\n",
    "data['where_work'] = np.where((data['work_status']==0), np.where(data['where_work'].isna(),'Не работает', data['where_work']), data['where_work'])\n",
    "\n",
    "data['work_departament'] = np.where((data['work_status']==0), np.where(data['work_departament'].isna(),'Не работает', data['work_departament']), data['work_departament'])\n",
    "\n",
    "data['time_month_work'] = np.where((data['work_status']==0), np.where(data['time_month_work'].isna(),'Не работает', data['time_month_work']), data['time_month_work'])\n"
   ]
  },
  {
   "cell_type": "code",
   "execution_count": null,
   "metadata": {
    "scrolled": true
   },
   "outputs": [],
   "source": [
    "data[['age', 'work_status', 'work_tittle', 'where_work', 'work_departament', 'time_month_work']].loc[data['work_status'] == 0]"
   ]
  },
  {
   "cell_type": "code",
   "execution_count": null,
   "metadata": {
    "scrolled": true
   },
   "outputs": [],
   "source": [
    "data[['age', 'work_status', 'status_pens', 'work_tittle', 'where_work', 'work_departament', 'time_month_work', 'date_credit']].loc[(data['work_status'] == 0)  & (data['work_tittle']!='Не работает')]"
   ]
  },
  {
   "cell_type": "markdown",
   "metadata": {},
   "source": [
    "Данные люди уже вышли на пенсию и соответственно остались данные о их последнем месте работы и стаже. "
   ]
  },
  {
   "cell_type": "markdown",
   "metadata": {},
   "source": [
    "#### <center>Задание: \n",
    "Добавьте в таблицу следующие признаки:\n",
    "- день недели, месяц и год взятия кредита;\n",
    "- адрес регистрации и адрес фактического пребывания клиента совпадают (1 -- совпадает, 0 -- не совпадает);\n",
    "- адрес фактического пребывания клиента и его почтовый адрес совпадают(1 -- совпадает, 0 -- не совпадает);\n",
    "- адрес регистрации клиента и его почтовый адрес совпадают(1 -- совпадает, 0 -- не совпадает);\n",
    "- почтовый, фактический и адрес регистрации совпадают (1 -- совпадают, 0 -- не совпадают);\n",
    "- область регистрации, фактического пребывания, почтового адреса и область расположения торговой точки, где клиент брал кредит совпадают (1 -- совпадают, 0 -- не совпадают);"
   ]
  },
  {
   "cell_type": "code",
   "execution_count": null,
   "metadata": {},
   "outputs": [],
   "source": [
    "data['data_credit_year'] = data['date_credit'].dt.year\n",
    "\n",
    "data['data_credit_month'] = data['date_credit'].dt.month\n",
    "\n",
    "data['data_name_month'] = data['date_credit'].dt.month_name()\n",
    "\n",
    "data['data_credit_day'] = data['date_credit'].dt.weekday\n",
    "\n",
    "data['data_day_name'] = data['date_credit'].dt.day_name()\n",
    "\n",
    "data[['date_credit', 'data_credit_year', 'data_credit_month', 'data_credit_day', 'data_day_name']]"
   ]
  },
  {
   "cell_type": "code",
   "execution_count": null,
   "metadata": {},
   "outputs": [],
   "source": [
    "data['fact_and_real_ad'] =  np.where(data['fact_address']== data['reg_address'], 1, 0)"
   ]
  },
  {
   "cell_type": "code",
   "execution_count": null,
   "metadata": {},
   "outputs": [],
   "source": [
    "data['fact_and_post_ad'] =  np.where(data['fact_address']== data['post_address'], 1, 0)"
   ]
  },
  {
   "cell_type": "code",
   "execution_count": null,
   "metadata": {},
   "outputs": [],
   "source": [
    "data['fact_real_post_ad'] =  np.where(data['fact_and_post_ad'] == data['fact_and_real_ad'], 1, 0)"
   ]
  },
  {
   "cell_type": "code",
   "execution_count": null,
   "metadata": {},
   "outputs": [],
   "source": [
    "reg1 =  np.where(data['reg_address'] == data['region_tt_credit'], 1, 0)\n",
    "data['region_where_crediat'] =  np.where(data['fact_and_post_ad'] == reg1, 1, 0)"
   ]
  },
  {
   "cell_type": "code",
   "execution_count": null,
   "metadata": {
    "scrolled": true
   },
   "outputs": [],
   "source": [
    "data[['fact_address', 'reg_address', 'fact_and_real_ad', 'post_address', 'fact_real_post_ad', 'region_tt_credit', 'region_where_crediat']]"
   ]
  },
  {
   "cell_type": "markdown",
   "metadata": {},
   "source": [
    "#### <center>Исследовательский анализ данных\n",
    "- исследовать динамику количества кредитов по годам, месяцам;\n",
    "- исследовать числовые и категориальные признаки в разрезе целевого признака;\n",
    "- сделать выводы о влиянии признаков на целевой признак. "
   ]
  },
  {
   "cell_type": "code",
   "execution_count": null,
   "metadata": {},
   "outputs": [],
   "source": [
    "plt.figure(figsize=(13, 6))\n",
    "ax = sns.countplot(data=data,\n",
    "                   x='data_credit_year')\n",
    "\n",
    "ax.set_xlabel('Год');\n",
    "ax.set_ylabel('Всего взято кредитов');\n",
    "\n",
    "for container in ax.containers:\n",
    "    ax.bar_label(container);\n",
    "    \n",
    "plt.grid(axis='y')\n"
   ]
  },
  {
   "cell_type": "code",
   "execution_count": null,
   "metadata": {},
   "outputs": [],
   "source": [
    "plt.figure(figsize=(13, 6))\n",
    "ax = sns.countplot(data=data,\n",
    "                   x='data_credit_month')\n",
    "\n",
    "ax.set_xlabel('Месяц');\n",
    "ax.set_ylabel('Всего взято кредитов');\n",
    "\n",
    "ax.set_xticklabels(ax.get_xticklabels(),\n",
    "                   fontsize=8,\n",
    "                   rotation=45);\n",
    "\n",
    "for container in ax.containers:\n",
    "    ax.bar_label(container);\n",
    "    \n",
    "plt.grid(axis='y')\n"
   ]
  },
  {
   "cell_type": "markdown",
   "metadata": {},
   "source": [
    "Рассмотрим сколько всего человек откликнулось."
   ]
  },
  {
   "cell_type": "code",
   "execution_count": null,
   "metadata": {},
   "outputs": [],
   "source": [
    "data['reaction'].value_counts()"
   ]
  },
  {
   "cell_type": "code",
   "execution_count": null,
   "metadata": {},
   "outputs": [],
   "source": [
    "label = ['не откликнулись',  'откликнулись']\n",
    "fig, axs = plt.subplots()\n",
    "axs.pie(data['reaction'].value_counts(), labels=label, autopct='%1.2f%%', colors= ['#778899', '#87CEEB'])\n",
    "\n",
    "\n",
    "plt.show()"
   ]
  },
  {
   "cell_type": "markdown",
   "metadata": {},
   "source": [
    "Итак, всего 1 812 (или в процентном соотношении - 11,9%) человек откликнулись. Далее изучим наиболее часто встречающиеся признаки среди откликнувшихся и составим портрет клиента."
   ]
  },
  {
   "cell_type": "code",
   "execution_count": null,
   "metadata": {
    "scrolled": true
   },
   "outputs": [],
   "source": [
    "data1 = data[data['reaction'] == 1]\n",
    "data1"
   ]
  },
  {
   "cell_type": "markdown",
   "metadata": {},
   "source": [
    "Разделим признаки на числовые и категориальные."
   ]
  },
  {
   "cell_type": "code",
   "execution_count": null,
   "metadata": {},
   "outputs": [],
   "source": [
    "# числовые\n",
    "lst_ch = ['pers_income', 'summa_credit', 'time_credit', 'how_living_in_fact', 'payment', 'time_not_pay', 'max_sum_not_pay']\n",
    "# категориальные\n",
    "lst_cat = ['age', 'work_status', 'status_pens', 'gender', 'children', 'izh', 'education', 'where_work', 'work_title', 'org', 'capital_abroad', \n",
    "           'work_departament','reg_address',  'fact_address', 'region_tt_credit', 'region', 'home', 'auto', 'rus_auto', 'house_out_city', 'big_house', \n",
    "           'family_income', 'garage', 'own_land']"
   ]
  },
  {
   "cell_type": "markdown",
   "metadata": {},
   "source": [
    "Уберем пару пунктов из списка категориальных признаков, поскольку там довольно большое количество вариантов и длинные названия, на графике тяжело будет прочитать, рассмотрим их после построение гистограм: 'where_work', 'work_departament', 'work_tittle', 'region_tt_credit'."
   ]
  },
  {
   "cell_type": "code",
   "execution_count": null,
   "metadata": {},
   "outputs": [],
   "source": [
    "lst_cat2 = ['age', 'work_status', 'status_pens', 'gender', 'children', 'izh', 'education', 'org', 'capital_abroad', \n",
    "           'region_tt_credit', 'region', 'home', 'auto', 'rus_auto', 'house_out_city', 'big_house', \n",
    "           'family_income', 'garage', 'own_land']"
   ]
  },
  {
   "cell_type": "code",
   "execution_count": null,
   "metadata": {
    "scrolled": true
   },
   "outputs": [],
   "source": [
    "for col in lst_cat2:\n",
    "    fig, ax = plt.subplots(figsize=(20,10))\n",
    "    sns.countplot(x = data1[col], hue= 'reaction', data = data1)\n",
    "    plt.grid(axis='y')\n",
    "    for container in ax.containers:\n",
    "        ax.bar_label(container, fontsize=14)\n",
    "        \n"
   ]
  },
  {
   "cell_type": "code",
   "execution_count": null,
   "metadata": {},
   "outputs": [],
   "source": [
    "where_work_percent = (data1['where_work'].value_counts() / len(data1)) * 100\n",
    "where_work_table = pd.DataFrame({'Количество': data1['where_work'].value_counts(), 'Процент': where_work_percent.values})\n",
    "\n",
    "where_work_table"
   ]
  },
  {
   "cell_type": "code",
   "execution_count": null,
   "metadata": {},
   "outputs": [],
   "source": [
    "work_departament_percent = (data1['work_departament'].value_counts() / len(data1)) * 100\n",
    "work_departament_table = pd.DataFrame({'Количество': data1['work_departament'].value_counts(), 'Процент': work_departament_percent.values})\n",
    "\n",
    "work_departament_table"
   ]
  },
  {
   "cell_type": "code",
   "execution_count": null,
   "metadata": {},
   "outputs": [],
   "source": [
    "work_tittle_percent = (data1['work_tittle'].value_counts() / len(data1)) * 100\n",
    "work_tittle_table = pd.DataFrame({'Количество': data1['work_tittle'].value_counts(), 'Процент': work_tittle_percent.values})\n",
    "\n",
    "work_tittle_table"
   ]
  },
  {
   "cell_type": "code",
   "execution_count": null,
   "metadata": {},
   "outputs": [],
   "source": [
    "region_tt_credit_percent = (data1['region_tt_credit'].value_counts() / len(data1)) * 100\n",
    "region_tt_credit_table = pd.DataFrame({'Количество': data1['region_tt_credit'].value_counts(), 'Процент': region_tt_credit_percent.values})\n",
    "\n",
    "region_tt_credit_table"
   ]
  },
  {
   "cell_type": "markdown",
   "metadata": {},
   "source": [
    "Поскольку у откликнувшихся клиентов в большинстве своем нет недвижимости изучим живут ли они по прописки или нет."
   ]
  },
  {
   "cell_type": "code",
   "execution_count": null,
   "metadata": {},
   "outputs": [],
   "source": [
    "fact_and_real_ad_percent = (data1['fact_and_real_ad'].value_counts() / len(data1)) * 100\n",
    "fact_and_real_ad_table = pd.DataFrame({'Количество': data1['fact_and_real_ad'].value_counts(), 'Процент': fact_and_real_ad_percent.values})\n",
    "\n",
    "fact_and_real_ad_table"
   ]
  },
  {
   "cell_type": "markdown",
   "metadata": {},
   "source": [
    "Практически все живут по прописки, это означает, что скорее всего они живут в доме родителей, и можно предположить, что живут они с ними. Этот критерии тоже можно выделить при составлении портрета - человек живет не один, а со своей семьей."
   ]
  },
  {
   "cell_type": "code",
   "execution_count": null,
   "metadata": {},
   "outputs": [],
   "source": [
    "data1[lst_ch].describe()"
   ]
  },
  {
   "cell_type": "code",
   "execution_count": null,
   "metadata": {
    "scrolled": true
   },
   "outputs": [],
   "source": [
    "fig = plt.figure()\n",
    "total_axes = len(lst_ch) # общее количество графиков (в данном случае\n",
    "                             # берем равным количеству колонок в датафрейме\n",
    "subplt = 1 # номер начального axes\n",
    "for col in lst_ch:\n",
    "    plt.subplots(figsize=(15,5))\n",
    "    ax = sns.histplot(data1[col])\n",
    "\n",
    "    ax.axvline(data1[col].mean(), color='red', label=f'Выборочное среднее {data1[col].mean():.2f}')\n",
    "    ax.axvline(data1[col].median(), color='orange', label=f'Медиана {data1[col].median():.2f}')\n",
    "    ax.axvline(data1[col].mode()[0], color='yellow', label=f'Мода {data1[col].mode()[0]:.2f}')\n",
    "\n",
    "    q_1 = np.percentile(data1[col].dropna(), 1)\n",
    "    ax.axvline(q_1, color='green', label=f'1 перцентиль {q_1:.2f}')\n",
    "    q_5 = np.percentile(data1[col].dropna(), 5)\n",
    "    ax.axvline(q_5, color='deepskyblue', label=f'5 перцентиль {q_5:.2f}')\n",
    "    q_95 = np.percentile(data1[col].dropna(), 95)\n",
    "    ax.axvline(q_95, color='blue', label=f'95 перцентиль {q_95:.2f}')\n",
    "    q_99 = np.percentile(data1[col].dropna(), 99)\n",
    "    ax.axvline(q_99, color='purple', label=f'99 перцентиль {q_99:.2f}')\n",
    "\n",
    "    plt.grid(axis='y')\n",
    "\n",
    "    plt.legend()\n",
    "   "
   ]
  },
  {
   "cell_type": "markdown",
   "metadata": {},
   "source": [
    "Мужчин откликнулось больше, но женщины также откликались, поэтому для составление портрета рассмотрим признаки относительно пола откликнувшихся."
   ]
  },
  {
   "cell_type": "code",
   "execution_count": null,
   "metadata": {},
   "outputs": [],
   "source": [
    "for col in lst_cat2:\n",
    "    fig, ax = plt.subplots(figsize=(20,10))\n",
    "    sns.countplot(x = data1[col], hue= 'reaction', data = data1)\n",
    "    plt.grid(axis='y')\n",
    "    for container in ax.containers:\n",
    "        ax.bar_label(container, fontsize=14)\n",
    "        \n"
   ]
  },
  {
   "cell_type": "markdown",
   "metadata": {},
   "source": [
    "Таким образом, рекомендуется настроить рекламу на следующих пользователей:\n",
    "- мужчина;\n",
    "- возрастной диапозон 22 - 42;\n",
    "- работающий;\n",
    "- должность - специалист, рабочий;\n",
    "- не имеет детей/имеет 1-2 детей;\n",
    "- на иждивении не находится никого/ 1-2 человека находятся на иждивении;\n",
    "- образование среднее или средне специальное;\n",
    "- работает в частной или государственной компании;\n",
    "- не имеют в собственности квартиры, автомобиля, загородных домов и коттеджов, гаража и собственной земли;\n",
    "- живет с семьей;\n",
    "- доход семьи от 10 до 50 тысяч рублей, персональный доход в среднем составляет 16 173 рубля;\n",
    "- сумма кредита в среднем 12 тысяч рублей;\n",
    "- просрочки по кредиту отсутствуют.\n",
    "\n",
    "- женщина\n",
    "- "
   ]
  },
  {
   "cell_type": "code",
   "execution_count": null,
   "metadata": {},
   "outputs": [],
   "source": []
  }
 ],
 "metadata": {
  "colab": {
   "provenance": []
  },
  "kernelspec": {
   "display_name": "Python 3 (ipykernel)",
   "language": "python",
   "name": "python3"
  },
  "language_info": {
   "codemirror_mode": {
    "name": "ipython",
    "version": 3
   },
   "file_extension": ".py",
   "mimetype": "text/x-python",
   "name": "python",
   "nbconvert_exporter": "python",
   "pygments_lexer": "ipython3",
   "version": "3.11.7"
  },
  "widgets": {
   "application/vnd.jupyter.widget-state+json": {
    "state": {},
    "version_major": 2,
    "version_minor": 0
   }
  }
 },
 "nbformat": 4,
 "nbformat_minor": 4
}
